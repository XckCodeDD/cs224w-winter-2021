{
  "nbformat": 4,
  "nbformat_minor": 0,
  "metadata": {
    "kernelspec": {
      "name": "python388jvsc74a57bd0737f6e1c9d8feb638f65f09db61c559996bb62283ae4be7ef436b1455a4ac03d",
      "display_name": "Python 3.8.8 64-bit ('pyg': conda)"
    },
    "language_info": {
      "codemirror_mode": {
        "name": "ipython",
        "version": 3
      },
      "file_extension": ".py",
      "mimetype": "text/x-python",
      "name": "python",
      "nbconvert_exporter": "python",
      "pygments_lexer": "ipython3",
      "version": "3.8.8-final"
    },
    "colab": {
      "name": "CS224W - Colab 2.ipynb",
      "provenance": [],
      "collapsed_sections": [],
      "toc_visible": true,
      "machine_shape": "hm"
    },
    "accelerator": "GPU"
  },
  "cells": [
    {
      "cell_type": "markdown",
      "metadata": {
        "id": "XuXWJLEm2UWS"
      },
      "source": [
        "# **CS224W - Colab 2**"
      ]
    },
    {
      "cell_type": "markdown",
      "metadata": {
        "id": "8gzsP50bF6Gb"
      },
      "source": [
        "In this Colab, we will construct our own graph neural network by using PyTorch Geometric (PyG) and apply the model on two of Open Graph Benchmark (OGB) datasets. Those two datasets are used to benchmark the model performance on two different graph-related tasks. One is node property prediction, predicting properties of single nodes. Another one is graph property prediction, predicting the entire graphs or subgraphs.\n",
        "\n",
        "At first, we will learn how PyTorch Geometric stores the graphs in PyTorch tensor.\n",
        "\n",
        "We will then load and take a quick look on one of the Open Graph Benchmark (OGB) datasets by using the `ogb` package. OGB is a collection of realistic, large-scale, and diverse benchmark datasets for machine learning on graphs. The `ogb` package not only provides the data loader of the dataset but also the evaluator.\n",
        "\n",
        "At last, we will build our own graph neural networks by using PyTorch Geometric. And then apply and evaluate the models on node property prediction and grpah property prediction tasks.\n",
        "\n",
        "**Note**: Make sure to **sequentially run all the cells in each section**, so that the intermediate variables / packages will carry over to the next cell\n",
        "\n",
        "Have fun on Colab 2 :)"
      ]
    },
    {
      "cell_type": "markdown",
      "metadata": {
        "id": "ZGKqVEbbMEzf"
      },
      "source": [
        "# Device\n",
        "You might need to use GPU for this Colab.\n",
        "\n",
        "Please click `Runtime` and then `Change runtime type`. Then set the `hardware accelerator` to **GPU**."
      ]
    },
    {
      "cell_type": "markdown",
      "metadata": {
        "id": "B0NiFL6OLpaJ"
      },
      "source": [
        "# Installation"
      ]
    },
    {
      "cell_type": "code",
      "metadata": {
        "id": "By2oyBw7Lrh5"
      },
      "source": [
        "!pip install -q torch-scatter -f https://pytorch-geometric.com/whl/torch-1.7.0+cu101.html\n",
        "!pip install -q torch-sparse -f https://pytorch-geometric.com/whl/torch-1.7.0+cu101.html\n",
        "!pip install -q torch-geometric\n",
        "!pip install ogb"
      ],
      "execution_count": null,
      "outputs": []
    },
    {
      "cell_type": "markdown",
      "metadata": {
        "id": "Nwwq0nSdmsOL"
      },
      "source": [
        "# 1 PyTorch Geometric (Datasets and Data)\n"
      ]
    },
    {
      "cell_type": "markdown",
      "metadata": {
        "id": "Sf7vUmdNKCjA"
      },
      "source": [
        "PyTorch Geometric generally has two classes for storing or transforming the graphs into tensor format. One is the `torch_geometric.datasets`, which contains a variety of common graph datasets. Another one is `torch_geometric.data` that provides the data handling of graphs in PyTorch tensors.\n",
        "\n",
        "In this section, we will learn how to use the `torch_geometric.datasets` and `torch_geometric.data`."
      ]
    },
    {
      "cell_type": "markdown",
      "metadata": {
        "id": "ic-o1P3r6hr2"
      },
      "source": [
        "## PyG Datasets\n",
        "\n",
        "The `torch_geometric.datasets` has many common graph datasets. Here we will explore the usage by using one example dataset."
      ]
    },
    {
      "cell_type": "code",
      "metadata": {
        "id": "zT5qca3x6XpG"
      },
      "source": [
        "from torch_geometric.datasets import TUDataset\n",
        "\n",
        "root = './enzymes'\n",
        "name = 'ENZYMES'\n",
        "\n",
        "# The ENZYMES dataset\n",
        "pyg_dataset= TUDataset('./enzymes', 'ENZYMES')\n",
        "\n",
        "# You can find that there are 600 graphs in this dataset\n",
        "print(pyg_dataset)"
      ],
      "execution_count": 1,
      "outputs": [
        {
          "output_type": "stream",
          "name": "stdout",
          "text": [
            "ENZYMES(600)\n"
          ]
        }
      ]
    },
    {
      "cell_type": "markdown",
      "metadata": {
        "id": "NLm5vVYMAP2x"
      },
      "source": [
        "## Question 1: What is the number of classes and number of features in the ENZYMES dataset? (5 points)"
      ]
    },
    {
      "cell_type": "code",
      "metadata": {
        "id": "8iF_Kyqr_JbY"
      },
      "source": [
        "def get_num_classes(pyg_dataset):\n",
        "  # TODO: Implement this function that takes a PyG dataset object\n",
        "  # and return the number of classes for that dataset.\n",
        "\n",
        "  num_classes = 0\n",
        "\n",
        "  ############# Your code here ############\n",
        "  ## (~1 line of code)\n",
        "  ## Note\n",
        "  ## 1. Colab autocomplete functionality might be useful.\n",
        "  num_classes = len(set(pyg_dataset.data.y.numpy()))\n",
        "  #########################################\n",
        "\n",
        "  return num_classes\n",
        "\n",
        "def get_num_features(pyg_dataset):\n",
        "  # TODO: Implement this function that takes a PyG dataset object\n",
        "  # and return the number of features for that dataset.\n",
        "\n",
        "  num_features = 0\n",
        "\n",
        "  ############# Your code here ############\n",
        "  ## (~1 line of code)\n",
        "  ## Note\n",
        "  ## 1. Colab autocomplete functionality might be useful.\n",
        "  num_features = pyg_dataset.data.x.size(1)\n",
        "  #########################################\n",
        "\n",
        "  return num_features\n",
        "\n",
        "# You may find that some information need to be stored in the dataset level,\n",
        "# specifically if there are multiple graphs in the dataset\n",
        "\n",
        "num_classes = get_num_classes(pyg_dataset)\n",
        "num_features = get_num_features(pyg_dataset)\n",
        "print(\"{} dataset has {} classes\".format(name, num_classes))\n",
        "print(\"{} dataset has {} features\".format(name, num_features))"
      ],
      "execution_count": 3,
      "outputs": [
        {
          "output_type": "stream",
          "name": "stdout",
          "text": [
            "ENZYMES dataset has 6 classes\nENZYMES dataset has 3 features\n"
          ]
        }
      ]
    },
    {
      "cell_type": "markdown",
      "metadata": {
        "id": "rwKbzhHUAckZ"
      },
      "source": [
        "## PyG Data\n",
        "\n",
        "Each PyG dataset usually stores a list of `torch_geometric.data.Data` objects. Each `torch_geometric.data.Data` object usually represents a graph. You can easily get the `Data` object by indexing on the dataset.\n",
        "\n",
        "For more information such as what will be stored in `Data` object, please refer to the [documentation](https://pytorch-geometric.readthedocs.io/en/latest/modules/data.html#torch_geometric.data.Data)."
      ]
    },
    {
      "cell_type": "markdown",
      "metadata": {
        "id": "7sCV3xJWCddX"
      },
      "source": [
        "## Question 2: What is the label of the graph (index 100 in the ENZYMES dataset)? (5 points)"
      ]
    },
    {
      "cell_type": "code",
      "metadata": {
        "id": "LIis9oTZAfs3"
      },
      "source": [
        "def get_graph_class(pyg_dataset, idx):\n",
        "  # TODO: Implement this function that takes a PyG dataset object,\n",
        "  # the index of the graph in dataset, and returns the class/label \n",
        "  # of the graph (in integer).\n",
        "\n",
        "  label = -1\n",
        "\n",
        "  ############# Your code here ############\n",
        "  ## (~1 line of code)\n",
        "  label = int(pyg_dataset.data.y[idx])\n",
        "  #########################################\n",
        "\n",
        "  return label\n",
        "\n",
        "# Here pyg_dataset is a dataset for graph classification\n",
        "graph_0 = pyg_dataset[0]\n",
        "print(graph_0)\n",
        "idx = 100\n",
        "label = get_graph_class(pyg_dataset, idx)\n",
        "print('Graph with index {} has label {}'.format(idx, label))"
      ],
      "execution_count": 4,
      "outputs": [
        {
          "output_type": "stream",
          "name": "stdout",
          "text": [
            "Data(edge_index=[2, 168], x=[37, 3], y=[1])\nGraph with index 100 has label 4\n"
          ]
        }
      ]
    },
    {
      "cell_type": "markdown",
      "metadata": {
        "id": "fKhcVeAhCwoY"
      },
      "source": [
        "## Question 3: What is the number of edges for the graph (index 200 in the ENZYMES dataset)? (5 points)"
      ]
    },
    {
      "cell_type": "code",
      "execution_count": 36,
      "metadata": {},
      "outputs": [
        {
          "output_type": "execute_result",
          "data": {
            "text/plain": [
              "Data(edge_index=[2, 74564], x=[19580, 3], y=[600])"
            ]
          },
          "metadata": {},
          "execution_count": 36
        }
      ],
      "source": [
        "edge_index = pyg_dataset.data.edge_index\n",
        "pyg_dataset.data"
      ]
    },
    {
      "cell_type": "code",
      "execution_count": 56,
      "metadata": {},
      "outputs": [
        {
          "output_type": "execute_result",
          "data": {
            "text/plain": [
              "106"
            ]
          },
          "metadata": {},
          "execution_count": 56
        }
      ],
      "source": [
        "graph = pyg_dataset[200]\n",
        "graph.edge_index.size(1) "
      ]
    },
    {
      "cell_type": "code",
      "metadata": {
        "id": "f5m2DOfhBtWv"
      },
      "source": [
        "def get_graph_num_edges(pyg_dataset, idx):\n",
        "  # TODO: Implement this function that takes a PyG dataset object,\n",
        "  # the index of the graph in dataset, and returns the number of \n",
        "  # edges in the graph (in integer). You should not count an edge \n",
        "  # twice if the graph is undirected. For example, in an undirected \n",
        "  # graph G, if two nodes v and u are connected by an edge, this edge\n",
        "  # should only be counted once.\n",
        "  num_edges = 0\n",
        "\n",
        "  ############# Your code here ############\n",
        "  ## Note:\n",
        "  ## 1. You can't return the data.num_edges directly\n",
        "  ## 2. We assume the graph is undirected\n",
        "  ## (~4 lines of code)\n",
        "  graph = pyg_dataset[idx]\n",
        "  num_edges = int(graph.edge_index.size(1) / 2)\n",
        "  #########################################\n",
        "\n",
        "  return num_edges\n",
        "\n",
        "idx = 200\n",
        "num_edges = get_graph_num_edges(pyg_dataset, idx)\n",
        "print('Graph with index {} has {} edges'.format(idx, num_edges))"
      ],
      "execution_count": 57,
      "outputs": [
        {
          "output_type": "stream",
          "name": "stdout",
          "text": [
            "Graph with index 200 has 53 edges\n"
          ]
        }
      ]
    },
    {
      "cell_type": "markdown",
      "metadata": {
        "id": "AXa7yIG4E0Fp"
      },
      "source": [
        "# 2 Open Graph Benchmark (OGB)\n",
        "\n",
        "The Open Graph Benchmark (OGB) is a collection of realistic, large-scale, and diverse benchmark datasets for machine learning on graphs. Its datasets are automatically downloaded, processed, and split using the OGB Data Loader. The model performance can also be evaluated by using the OGB Evaluator in a unified manner."
      ]
    },
    {
      "cell_type": "markdown",
      "metadata": {
        "id": "HnazPGGAJAZN"
      },
      "source": [
        "## Dataset and Data\n",
        "\n",
        "OGB also supports the PyG dataset and data. Here we take a look on the `ogbn-arxiv` dataset."
      ]
    },
    {
      "cell_type": "code",
      "metadata": {
        "id": "Gpc6bTm3GF02"
      },
      "source": [
        "import torch_geometric.transforms as T\n",
        "from ogb.nodeproppred import PygNodePropPredDataset\n",
        "\n",
        "dataset_name = 'ogbn-arxiv'\n",
        "# Load the dataset and transform it to sparse tensor\n",
        "dataset = PygNodePropPredDataset(name=dataset_name,\n",
        "                                 transform=T.ToSparseTensor())\n",
        "print('The {} dataset has {} graph'.format(dataset_name, len(dataset)))\n",
        "\n",
        "# Extract the graph\n",
        "data = dataset[0]\n",
        "print(data)"
      ],
      "execution_count": 2,
      "outputs": [
        {
          "output_type": "stream",
          "name": "stdout",
          "text": [
            "The ogbn-arxiv dataset has 1 graph\n",
            "Data(adj_t=[169343, 169343, nnz=1166243], node_year=[169343, 1], x=[169343, 128], y=[169343, 1])\n"
          ]
        }
      ]
    },
    {
      "cell_type": "markdown",
      "metadata": {
        "id": "Cw0xZJKZI-n3"
      },
      "source": [
        "## Question 4: What is the number of features in the ogbn-arxiv graph? (5 points)"
      ]
    },
    {
      "cell_type": "code",
      "metadata": {
        "id": "ZP844_nT2ZJl"
      },
      "source": [
        "def graph_num_features(data):\n",
        "  # TODO: Implement this function that takes a PyG data object,\n",
        "  # and returns the number of features in the graph (in integer).\n",
        "\n",
        "  num_features = 0\n",
        "\n",
        "  ############# Your code here ############\n",
        "  ## (~1 line of code)\n",
        "  num_features = data.x.size(1)\n",
        "  #########################################\n",
        "\n",
        "  return num_features\n",
        "\n",
        "num_features = graph_num_features(data)\n",
        "print('The graph has {} features'.format(num_features))"
      ],
      "execution_count": 3,
      "outputs": [
        {
          "output_type": "stream",
          "name": "stdout",
          "text": [
            "The graph has 128 features\n"
          ]
        }
      ]
    },
    {
      "cell_type": "markdown",
      "metadata": {
        "id": "9DP_yEQZ0NVW"
      },
      "source": [
        "# 3 GNN: Node Property Prediction\n",
        "\n",
        "In this section we will build our first graph neural network by using PyTorch Geometric and apply it on node property prediction (node classification).\n",
        "\n",
        "We will build the graph neural network by using GCN operator ([Kipf et al. (2017)](https://arxiv.org/pdf/1609.02907.pdf)).\n",
        "\n",
        "You should use the PyG built-in `GCNConv` layer directly. "
      ]
    },
    {
      "cell_type": "markdown",
      "metadata": {
        "id": "O4CcOUEoInjD"
      },
      "source": [
        "## Setup"
      ]
    },
    {
      "cell_type": "code",
      "metadata": {
        "id": "-DCtgcHpGIpd"
      },
      "source": [
        "import torch\n",
        "import torch.nn.functional as F\n",
        "print(torch.__version__)\n",
        "\n",
        "# The PyG built-in GCNConv\n",
        "from torch_geometric.nn import GCNConv\n",
        "\n",
        "import torch_geometric.transforms as T\n",
        "from ogb.nodeproppred import PygNodePropPredDataset, Evaluator"
      ],
      "execution_count": 15,
      "outputs": [
        {
          "output_type": "stream",
          "name": "stdout",
          "text": [
            "1.7.1+cu110\n"
          ]
        }
      ]
    },
    {
      "cell_type": "markdown",
      "metadata": {
        "id": "0IK9z0wQIwzQ"
      },
      "source": [
        "## Load and Preprocess the Dataset"
      ]
    },
    {
      "cell_type": "code",
      "metadata": {
        "id": "0ibJ0ieoIwQM"
      },
      "source": [
        "dataset_name = 'ogbn-arxiv'\n",
        "dataset = PygNodePropPredDataset(name=dataset_name,\n",
        "                                 transform=T.ToSparseTensor())\n",
        "data = dataset[0]\n",
        "\n",
        "# Make the adjacency matrix to symmetric\n",
        "data.adj_t = data.adj_t.to_symmetric()\n",
        "\n",
        "device = 'cuda' if torch.cuda.is_available() else 'cpu'\n",
        "\n",
        "# If you use GPU, the device should be cuda\n",
        "print('Device: {}'.format(device))\n",
        "\n",
        "data = data.to(device)\n",
        "split_idx = dataset.get_idx_split()\n",
        "train_idx = split_idx['train'].to(device)"
      ],
      "execution_count": 16,
      "outputs": [
        {
          "output_type": "stream",
          "name": "stdout",
          "text": [
            "Device: cuda\n"
          ]
        }
      ]
    },
    {
      "cell_type": "markdown",
      "metadata": {
        "id": "OgUA815bNJ8w"
      },
      "source": [
        "## GCN Model\n",
        "\n",
        "Now we will implement our GCN model!\n",
        "\n",
        "Please follow the figure below to implement your `forward` function.\n",
        "\n",
        "\n",
        "![test](https://drive.google.com/uc?id=128AuYAXNXGg7PIhJJ7e420DoPWKb-RtL)"
      ]
    },
    {
      "cell_type": "code",
      "metadata": {
        "id": "IgspXTYpNJLA"
      },
      "source": [
        "class GCN(torch.nn.Module):\n",
        "    def __init__(self, input_dim, hidden_dim, output_dim, num_layers,\n",
        "                 dropout, return_embeds=False):\n",
        "        # TODO: Implement this function that initializes self.convs, \n",
        "        # self.bns, and self.softmax.\n",
        "\n",
        "        super(GCN, self).__init__()\n",
        "\n",
        "        # A list of GCNConv layers\n",
        "        self.convs = None\n",
        "\n",
        "        # A list of 1D batch normalization layers\n",
        "        self.bns = None\n",
        "\n",
        "        # The log softmax layer\n",
        "        self.softmax = None\n",
        "\n",
        "        ############# Your code here ############\n",
        "        ## Note:\n",
        "        ## 1. You should use torch.nn.ModuleList for self.convs and self.bns\n",
        "        ## 2. self.convs has num_layers GCNConv layers\n",
        "        ## 3. self.bns has num_layers - 1 BatchNorm1d layers\n",
        "        ## 4. You should use torch.nn.LogSoftmax for self.softmax\n",
        "        ## 5. The parameters you can set for GCNConv include 'in_channels' and \n",
        "        ## 'out_channels'. More information please refer to the documentation:\n",
        "        ## https://pytorch-geometric.readthedocs.io/en/latest/modules/nn.html#torch_geometric.nn.conv.GCNConv\n",
        "        ## 6. The only parameter you need to set for BatchNorm1d is 'num_features'\n",
        "        ## More information please refer to the documentation: \n",
        "        ## https://pytorch.org/docs/stable/generated/torch.nn.BatchNorm1d.html\n",
        "        ## (~10 lines of code)\n",
        "\n",
        "        self.convs = torch.nn.ModuleList()\n",
        "        for i in range(num_layers - 1):\n",
        "            self.convs.append(GCNConv(input_dim, hidden_dim))\n",
        "            input_dim = hidden_dim\n",
        "        self.convs.append(GCNConv(hidden_dim, output_dim))\n",
        "\n",
        "        self.bns = torch.nn.ModuleList()\n",
        "        for i in range(num_layers - 1):\n",
        "            self.bns.append(torch.nn.BatchNorm1d(hidden_dim))\n",
        "\n",
        "        self.softmax = torch.nn.LogSoftmax()\n",
        "        #########################################\n",
        "\n",
        "        # Probability of an element to be zeroed\n",
        "        self.dropout = dropout\n",
        "\n",
        "        # Skip classification layer and return node embeddings\n",
        "        self.return_embeds = return_embeds\n",
        "\n",
        "    def reset_parameters(self):\n",
        "        for conv in self.convs:\n",
        "            conv.reset_parameters()\n",
        "        for bn in self.bns:\n",
        "            bn.reset_parameters()\n",
        "\n",
        "    def forward(self, x, adj_t):\n",
        "        # TODO: Implement this function that takes the feature tensor x,\n",
        "        # edge_index tensor adj_t and returns the output tensor as\n",
        "        # shown in the figure.\n",
        "\n",
        "        out = None\n",
        "\n",
        "        ############# Your code here ############\n",
        "        ## Note:\n",
        "        ## 1. Construct the network as showing in the figure\n",
        "        ## 2. torch.nn.functional.relu and torch.nn.functional.dropout are useful\n",
        "        ## More information please refer to the documentation:\n",
        "        ## https://pytorch.org/docs/stable/nn.functional.html\n",
        "        ## 3. Don't forget to set F.dropout training to self.training\n",
        "        ## 4. If return_embeds is True, then skip the last softmax layer\n",
        "        ## (~7 lines of code)\n",
        "        for i in range(len(self.convs) - 1):\n",
        "            x = self.convs[i](x, adj_t)\n",
        "            x = self.bns[i](x)\n",
        "            x = torch.nn.functional.relu(x)\n",
        "            x = F.dropout(x, self.dropout, training=self.training)\n",
        "        x = self.convs[-1](x, adj_t)\n",
        "        if self.return_embeds:\n",
        "            out = x\n",
        "        else:\n",
        "            out = self.softmax(x)\n",
        "        #########################################\n",
        "\n",
        "        return out"
      ],
      "execution_count": 61,
      "outputs": []
    },
    {
      "cell_type": "code",
      "metadata": {
        "id": "FF1hnHUhO81e"
      },
      "source": [
        "def train(model, data, train_idx, optimizer, loss_fn):\n",
        "    # TODO: Implement this function that trains the model by \n",
        "    # using the given optimizer and loss_fn.\n",
        "    model.train()\n",
        "    loss = 0\n",
        "\n",
        "    ############# Your code here ############\n",
        "    ## Note:\n",
        "    ## 1. Zero grad the optimizer\n",
        "    ## 2. Feed the data into the model\n",
        "    ## 3. Slicing the model output and label by train_idx\n",
        "    ## 4. Feed the sliced output and label to loss_fn\n",
        "    ## (~4 lines of code)\n",
        "    optimizer.zero_grad()\n",
        "    y_ = model(data.x, data.adj_t)\n",
        "    y = data.y\n",
        "    loss = loss_fn(y_[train_idx], y[train_idx, 0])\n",
        "    #########################################\n",
        "\n",
        "    loss.backward()\n",
        "    optimizer.step()\n",
        "\n",
        "    return loss.item()"
      ],
      "execution_count": 18,
      "outputs": []
    },
    {
      "cell_type": "code",
      "metadata": {
        "id": "aJdlrJQhPBsK"
      },
      "source": [
        "# Test function here\n",
        "@torch.no_grad()\n",
        "def test(model, data, split_idx, evaluator):\n",
        "    # TODO: Implement this function that tests the model by \n",
        "    # using the given split_idx and evaluator.\n",
        "    model.eval()\n",
        "\n",
        "    # The output of model on all data\n",
        "    out = None\n",
        "\n",
        "    ############# Your code here ############\n",
        "    ## (~1 line of code)\n",
        "    ## Note:\n",
        "    ## 1. No index slicing here\n",
        "    out = model(data.x, data.adj_t)\n",
        "    #########################################\n",
        "\n",
        "    y_pred = out.argmax(dim=-1, keepdim=True)\n",
        "\n",
        "    train_acc = evaluator.eval({\n",
        "        'y_true': data.y[split_idx['train']],\n",
        "        'y_pred': y_pred[split_idx['train']],\n",
        "    })['acc']\n",
        "    valid_acc = evaluator.eval({\n",
        "        'y_true': data.y[split_idx['valid']],\n",
        "        'y_pred': y_pred[split_idx['valid']],\n",
        "    })['acc']\n",
        "    test_acc = evaluator.eval({\n",
        "        'y_true': data.y[split_idx['test']],\n",
        "        'y_pred': y_pred[split_idx['test']],\n",
        "    })['acc']\n",
        "\n",
        "    return train_acc, valid_acc, test_acc"
      ],
      "execution_count": 19,
      "outputs": []
    },
    {
      "cell_type": "code",
      "metadata": {
        "id": "o7F46xkuLiOL"
      },
      "source": [
        "# Please do not change the args\n",
        "args = {\n",
        "    'device': device,\n",
        "    'num_layers': 3,\n",
        "    'hidden_dim': 256,\n",
        "    'dropout': 0.5,\n",
        "    'lr': 0.01,\n",
        "    'epochs': 100,\n",
        "}\n",
        "args"
      ],
      "execution_count": 20,
      "outputs": [
        {
          "output_type": "execute_result",
          "data": {
            "text/plain": [
              "{'device': 'cuda',\n",
              " 'num_layers': 3,\n",
              " 'hidden_dim': 256,\n",
              " 'dropout': 0.5,\n",
              " 'lr': 0.01,\n",
              " 'epochs': 100}"
            ]
          },
          "metadata": {},
          "execution_count": 20
        }
      ]
    },
    {
      "cell_type": "code",
      "metadata": {
        "id": "dT8RyM2cPGxM"
      },
      "source": [
        "model = GCN(data.num_features, args['hidden_dim'],\n",
        "            dataset.num_classes, args['num_layers'],\n",
        "            args['dropout']).to(device)\n",
        "evaluator = Evaluator(name='ogbn-arxiv')"
      ],
      "execution_count": 7,
      "outputs": []
    },
    {
      "cell_type": "code",
      "metadata": {
        "id": "qd5O5cnPPdVF"
      },
      "source": [
        "import copy\n",
        "\n",
        "# reset the parameters to initial random value\n",
        "model.reset_parameters()\n",
        "\n",
        "optimizer = torch.optim.Adam(model.parameters(), lr=args['lr'])\n",
        "loss_fn = F.nll_loss\n",
        "\n",
        "best_model = None\n",
        "best_valid_acc = 0\n",
        "\n",
        "for epoch in range(1, 1 + args[\"epochs\"]):\n",
        "  loss = train(model, data, train_idx, optimizer, loss_fn)\n",
        "  result = test(model, data, split_idx, evaluator)\n",
        "  train_acc, valid_acc, test_acc = result\n",
        "  if valid_acc > best_valid_acc:\n",
        "      best_valid_acc = valid_acc\n",
        "      best_model = copy.deepcopy(model)\n",
        "  print(f'Epoch: {epoch:02d}, '\n",
        "        f'Loss: {loss:.4f}, '\n",
        "        f'Train: {100 * train_acc:.2f}%, '\n",
        "        f'Valid: {100 * valid_acc:.2f}% '\n",
        "        f'Test: {100 * test_acc:.2f}%')"
      ],
      "execution_count": 8,
      "outputs": [
        {
          "output_type": "stream",
          "name": "stderr",
          "text": [
            "<ipython-input-3-de7c937cb4c7>:83: UserWarning: Implicit dimension choice for log_softmax has been deprecated. Change the call to include dim=X as an argument.\n",
            "  out = self.softmax(x)\n",
            "Epoch: 01, Loss: 4.0895, Train: 25.59%, Valid: 28.98% Test: 25.95%\n",
            "Epoch: 02, Loss: 2.6279, Train: 28.42%, Valid: 25.62% Test: 30.94%\n",
            "Epoch: 03, Loss: 2.1786, Train: 25.76%, Valid: 23.76% Test: 28.99%\n",
            "Epoch: 04, Loss: 2.0200, Train: 36.27%, Valid: 29.75% Test: 34.11%\n",
            "Epoch: 05, Loss: 1.8922, Train: 45.90%, Valid: 46.03% Test: 48.27%\n",
            "Epoch: 06, Loss: 1.7937, Train: 46.57%, Valid: 44.48% Test: 44.01%\n",
            "Epoch: 07, Loss: 1.7075, Train: 45.69%, Valid: 40.87% Test: 42.29%\n",
            "Epoch: 08, Loss: 1.6543, Train: 44.69%, Valid: 38.29% Test: 41.63%\n",
            "Epoch: 09, Loss: 1.5962, Train: 45.07%, Valid: 39.38% Test: 43.74%\n",
            "Epoch: 10, Loss: 1.5502, Train: 46.65%, Valid: 43.26% Test: 48.18%\n",
            "Epoch: 11, Loss: 1.5071, Train: 49.39%, Valid: 48.68% Test: 53.45%\n",
            "Epoch: 12, Loss: 1.4735, Train: 51.26%, Valid: 51.54% Test: 55.86%\n",
            "Epoch: 13, Loss: 1.4417, Train: 52.09%, Valid: 52.84% Test: 56.76%\n",
            "Epoch: 14, Loss: 1.4208, Train: 52.50%, Valid: 52.94% Test: 56.85%\n",
            "Epoch: 15, Loss: 1.4069, Train: 53.09%, Valid: 53.27% Test: 57.10%\n",
            "Epoch: 16, Loss: 1.3949, Train: 54.25%, Valid: 55.15% Test: 58.65%\n",
            "Epoch: 17, Loss: 1.3815, Train: 55.72%, Valid: 57.37% Test: 60.70%\n",
            "Epoch: 18, Loss: 1.3634, Train: 56.82%, Valid: 58.44% Test: 61.52%\n",
            "Epoch: 19, Loss: 1.3524, Train: 57.85%, Valid: 59.46% Test: 62.24%\n",
            "Epoch: 20, Loss: 1.3428, Train: 58.89%, Valid: 60.59% Test: 62.89%\n",
            "Epoch: 21, Loss: 1.3258, Train: 60.23%, Valid: 61.74% Test: 63.69%\n",
            "Epoch: 22, Loss: 1.3245, Train: 61.37%, Valid: 62.73% Test: 64.35%\n",
            "Epoch: 23, Loss: 1.3173, Train: 62.38%, Valid: 63.47% Test: 64.94%\n",
            "Epoch: 24, Loss: 1.3057, Train: 63.24%, Valid: 64.20% Test: 65.29%\n",
            "Epoch: 25, Loss: 1.2958, Train: 63.61%, Valid: 64.57% Test: 65.58%\n",
            "Epoch: 26, Loss: 1.2854, Train: 63.66%, Valid: 64.62% Test: 65.60%\n",
            "Epoch: 27, Loss: 1.2774, Train: 63.50%, Valid: 64.30% Test: 65.40%\n",
            "Epoch: 28, Loss: 1.2756, Train: 63.39%, Valid: 64.07% Test: 65.40%\n",
            "Epoch: 29, Loss: 1.2626, Train: 63.54%, Valid: 64.02% Test: 65.39%\n",
            "Epoch: 30, Loss: 1.2576, Train: 63.60%, Valid: 64.01% Test: 65.49%\n",
            "Epoch: 31, Loss: 1.2535, Train: 63.74%, Valid: 64.21% Test: 65.67%\n",
            "Epoch: 32, Loss: 1.2494, Train: 64.07%, Valid: 64.83% Test: 66.10%\n",
            "Epoch: 33, Loss: 1.2407, Train: 64.92%, Valid: 65.67% Test: 66.48%\n",
            "Epoch: 34, Loss: 1.2369, Train: 65.83%, Valid: 66.55% Test: 66.70%\n",
            "Epoch: 35, Loss: 1.2350, Train: 66.66%, Valid: 67.18% Test: 66.44%\n",
            "Epoch: 36, Loss: 1.2265, Train: 67.28%, Valid: 67.42% Test: 66.15%\n",
            "Epoch: 37, Loss: 1.2228, Train: 67.73%, Valid: 67.53% Test: 65.91%\n",
            "Epoch: 38, Loss: 1.2159, Train: 68.03%, Valid: 67.98% Test: 66.38%\n",
            "Epoch: 39, Loss: 1.2126, Train: 68.16%, Valid: 68.21% Test: 66.93%\n",
            "Epoch: 40, Loss: 1.2138, Train: 68.29%, Valid: 68.49% Test: 67.24%\n",
            "Epoch: 41, Loss: 1.2027, Train: 68.44%, Valid: 68.73% Test: 67.51%\n",
            "Epoch: 42, Loss: 1.1997, Train: 68.60%, Valid: 69.01% Test: 67.86%\n",
            "Epoch: 43, Loss: 1.1998, Train: 68.80%, Valid: 69.15% Test: 68.05%\n",
            "Epoch: 44, Loss: 1.1955, Train: 68.83%, Valid: 69.33% Test: 68.42%\n",
            "Epoch: 45, Loss: 1.1910, Train: 68.83%, Valid: 69.35% Test: 68.80%\n",
            "Epoch: 46, Loss: 1.1900, Train: 68.80%, Valid: 69.27% Test: 68.89%\n",
            "Epoch: 47, Loss: 1.1867, Train: 68.84%, Valid: 69.34% Test: 68.85%\n",
            "Epoch: 48, Loss: 1.1861, Train: 68.86%, Valid: 69.22% Test: 68.64%\n",
            "Epoch: 49, Loss: 1.1810, Train: 68.96%, Valid: 69.12% Test: 68.10%\n",
            "Epoch: 50, Loss: 1.1746, Train: 69.08%, Valid: 68.62% Test: 67.00%\n",
            "Epoch: 51, Loss: 1.1755, Train: 69.09%, Valid: 68.44% Test: 66.54%\n",
            "Epoch: 52, Loss: 1.1711, Train: 69.21%, Valid: 68.63% Test: 66.85%\n",
            "Epoch: 53, Loss: 1.1707, Train: 69.43%, Valid: 68.81% Test: 67.17%\n",
            "Epoch: 54, Loss: 1.1700, Train: 69.51%, Valid: 68.85% Test: 67.36%\n",
            "Epoch: 55, Loss: 1.1618, Train: 69.51%, Valid: 68.87% Test: 67.50%\n",
            "Epoch: 56, Loss: 1.1615, Train: 69.49%, Valid: 69.11% Test: 67.95%\n",
            "Epoch: 57, Loss: 1.1621, Train: 69.51%, Valid: 69.41% Test: 68.67%\n",
            "Epoch: 58, Loss: 1.1639, Train: 69.49%, Valid: 69.53% Test: 68.79%\n",
            "Epoch: 59, Loss: 1.1584, Train: 69.60%, Valid: 69.55% Test: 68.69%\n",
            "Epoch: 60, Loss: 1.1547, Train: 69.71%, Valid: 69.69% Test: 68.60%\n",
            "Epoch: 61, Loss: 1.1536, Train: 69.92%, Valid: 69.79% Test: 68.70%\n",
            "Epoch: 62, Loss: 1.1592, Train: 70.01%, Valid: 69.92% Test: 68.87%\n",
            "Epoch: 63, Loss: 1.1501, Train: 70.04%, Valid: 70.03% Test: 69.06%\n",
            "Epoch: 64, Loss: 1.1489, Train: 70.05%, Valid: 70.01% Test: 68.97%\n",
            "Epoch: 65, Loss: 1.1501, Train: 70.04%, Valid: 69.94% Test: 68.85%\n",
            "Epoch: 66, Loss: 1.1429, Train: 70.07%, Valid: 70.04% Test: 69.11%\n",
            "Epoch: 67, Loss: 1.1409, Train: 70.05%, Valid: 70.16% Test: 69.68%\n",
            "Epoch: 68, Loss: 1.1404, Train: 70.14%, Valid: 70.10% Test: 69.65%\n",
            "Epoch: 69, Loss: 1.1372, Train: 70.33%, Valid: 69.84% Test: 68.72%\n",
            "Epoch: 70, Loss: 1.1366, Train: 70.30%, Valid: 69.08% Test: 67.13%\n",
            "Epoch: 71, Loss: 1.1354, Train: 70.34%, Valid: 69.27% Test: 67.51%\n",
            "Epoch: 72, Loss: 1.1359, Train: 70.31%, Valid: 69.90% Test: 69.08%\n",
            "Epoch: 73, Loss: 1.1359, Train: 70.20%, Valid: 70.17% Test: 69.72%\n",
            "Epoch: 74, Loss: 1.1297, Train: 70.23%, Valid: 70.12% Test: 69.63%\n",
            "Epoch: 75, Loss: 1.1343, Train: 70.35%, Valid: 69.99% Test: 69.06%\n",
            "Epoch: 76, Loss: 1.1275, Train: 70.40%, Valid: 69.98% Test: 69.21%\n",
            "Epoch: 77, Loss: 1.1308, Train: 70.43%, Valid: 70.25% Test: 69.80%\n",
            "Epoch: 78, Loss: 1.1239, Train: 70.51%, Valid: 70.38% Test: 69.86%\n",
            "Epoch: 79, Loss: 1.1220, Train: 70.58%, Valid: 70.09% Test: 69.39%\n",
            "Epoch: 80, Loss: 1.1222, Train: 70.54%, Valid: 69.64% Test: 68.27%\n",
            "Epoch: 81, Loss: 1.1211, Train: 70.67%, Valid: 70.08% Test: 68.97%\n",
            "Epoch: 82, Loss: 1.1212, Train: 70.65%, Valid: 70.47% Test: 69.91%\n",
            "Epoch: 83, Loss: 1.1188, Train: 70.56%, Valid: 70.06% Test: 69.69%\n",
            "Epoch: 84, Loss: 1.1196, Train: 70.62%, Valid: 70.01% Test: 69.42%\n",
            "Epoch: 85, Loss: 1.1190, Train: 70.77%, Valid: 70.11% Test: 69.37%\n",
            "Epoch: 86, Loss: 1.1161, Train: 70.81%, Valid: 70.34% Test: 69.67%\n",
            "Epoch: 87, Loss: 1.1190, Train: 70.79%, Valid: 70.32% Test: 69.75%\n",
            "Epoch: 88, Loss: 1.1104, Train: 70.79%, Valid: 70.34% Test: 69.78%\n",
            "Epoch: 89, Loss: 1.1117, Train: 70.87%, Valid: 70.36% Test: 69.70%\n",
            "Epoch: 90, Loss: 1.1120, Train: 70.88%, Valid: 70.29% Test: 69.35%\n",
            "Epoch: 91, Loss: 1.1108, Train: 70.90%, Valid: 70.55% Test: 69.87%\n",
            "Epoch: 92, Loss: 1.1066, Train: 70.54%, Valid: 70.23% Test: 70.25%\n",
            "Epoch: 93, Loss: 1.1061, Train: 70.37%, Valid: 69.67% Test: 69.92%\n",
            "Epoch: 94, Loss: 1.1057, Train: 70.74%, Valid: 70.25% Test: 70.16%\n",
            "Epoch: 95, Loss: 1.1010, Train: 71.15%, Valid: 70.46% Test: 69.30%\n",
            "Epoch: 96, Loss: 1.1050, Train: 71.27%, Valid: 70.50% Test: 69.37%\n",
            "Epoch: 97, Loss: 1.1037, Train: 71.26%, Valid: 70.82% Test: 70.07%\n",
            "Epoch: 98, Loss: 1.1081, Train: 71.10%, Valid: 70.79% Test: 70.34%\n",
            "Epoch: 99, Loss: 1.0999, Train: 71.07%, Valid: 70.75% Test: 70.20%\n",
            "Epoch: 100, Loss: 1.1030, Train: 71.17%, Valid: 70.77% Test: 69.94%\n"
          ]
        }
      ]
    },
    {
      "cell_type": "code",
      "metadata": {
        "id": "EqcextqOL2FX"
      },
      "source": [
        "best_result = test(best_model, data, split_idx, evaluator)\n",
        "train_acc, valid_acc, test_acc = best_result\n",
        "print(f'Best model: '\n",
        "      f'Train: {100 * train_acc:.2f}%, '\n",
        "      f'Valid: {100 * valid_acc:.2f}% '\n",
        "      f'Test: {100 * test_acc:.2f}%')"
      ],
      "execution_count": 9,
      "outputs": [
        {
          "output_type": "stream",
          "name": "stdout",
          "text": [
            "Best model: Train: 71.26%, Valid: 70.82% Test: 70.07%\n",
            "<ipython-input-3-de7c937cb4c7>:83: UserWarning: Implicit dimension choice for log_softmax has been deprecated. Change the call to include dim=X as an argument.\n",
            "  out = self.softmax(x)\n"
          ]
        }
      ]
    },
    {
      "cell_type": "markdown",
      "metadata": {
        "id": "duMEg-olLjbJ"
      },
      "source": [
        "## Question 5: What are your `best_model` validation and test accuracy? Please report them on Gradescope. For example, for an accuracy such as 50.01%, just report 50.01 and please don't include the percent sign. (20 points)"
      ]
    },
    {
      "cell_type": "markdown",
      "metadata": {
        "id": "R8pOD6y80TyI"
      },
      "source": [
        "# 4 GNN: Graph Property Prediction\n",
        "\n",
        "In this section we will create a graph neural network for graph property prediction (graph classification)\n"
      ]
    },
    {
      "cell_type": "markdown",
      "metadata": {
        "id": "vRg5VOEdQTa4"
      },
      "source": [
        "## Load and preprocess the dataset"
      ]
    },
    {
      "cell_type": "code",
      "metadata": {
        "id": "LXb-O5QUIgTH"
      },
      "source": [
        "from ogb.graphproppred import PygGraphPropPredDataset, Evaluator\n",
        "from torch_geometric.data import DataLoader\n",
        "from tqdm import tqdm\n",
        "\n",
        "# Load the dataset \n",
        "dataset = PygGraphPropPredDataset(name='ogbg-molhiv')\n",
        "\n",
        "device = 'cuda' if torch.cuda.is_available() else 'cpu'\n",
        "print('Device: {}'.format(device))\n",
        "\n",
        "split_idx = dataset.get_idx_split()\n",
        "\n",
        "# Check task type\n",
        "print('Task type: {}'.format(dataset.task_type))"
      ],
      "execution_count": 84,
      "outputs": [
        {
          "output_type": "stream",
          "name": "stdout",
          "text": [
            "Device: cuda\nTask type: binary classification\n"
          ]
        }
      ]
    },
    {
      "cell_type": "code",
      "metadata": {
        "id": "7cHHbgW1c5hi"
      },
      "source": [
        "# Load the data sets into dataloader\n",
        "# We will train the graph classification task on a batch of 32 graphs\n",
        "# Shuffle the order of graphs for training set\n",
        "train_loader = DataLoader(dataset[split_idx[\"train\"]], batch_size=32, shuffle=True, num_workers=0)\n",
        "valid_loader = DataLoader(dataset[split_idx[\"valid\"]], batch_size=32, shuffle=False, num_workers=0)\n",
        "test_loader = DataLoader(dataset[split_idx[\"test\"]], batch_size=32, shuffle=False, num_workers=0)"
      ],
      "execution_count": 85,
      "outputs": []
    },
    {
      "cell_type": "code",
      "metadata": {
        "id": "AYrSnOj0Y4DK"
      },
      "source": [
        "# Please do not change the args\n",
        "args = {\n",
        "    'device': device,\n",
        "    'num_layers': 5,\n",
        "    'hidden_dim': 256,\n",
        "    'dropout': 0.5,\n",
        "    'lr': 0.001,\n",
        "    'epochs': 30,\n",
        "}\n",
        "args"
      ],
      "execution_count": 86,
      "outputs": [
        {
          "output_type": "execute_result",
          "data": {
            "text/plain": [
              "{'device': 'cuda',\n",
              " 'num_layers': 5,\n",
              " 'hidden_dim': 256,\n",
              " 'dropout': 0.5,\n",
              " 'lr': 0.001,\n",
              " 'epochs': 30}"
            ]
          },
          "metadata": {},
          "execution_count": 86
        }
      ]
    },
    {
      "cell_type": "markdown",
      "metadata": {
        "id": "7WLhguSTeazy"
      },
      "source": [
        "## Graph Prediction Model"
      ]
    },
    {
      "cell_type": "markdown",
      "metadata": {
        "id": "u05Z14TRYPGn"
      },
      "source": [
        "Now we will implement our GCN Graph Prediction model!\n",
        "\n",
        "We will reuse the existing GCN model to generate `node_embeddings` and use  Global Pooling on the nodes to predict properties for the whole graph."
      ]
    },
    {
      "cell_type": "code",
      "metadata": {
        "id": "3_Kq3zyjeZ22"
      },
      "source": [
        "from ogb.graphproppred.mol_encoder import AtomEncoder\n",
        "from torch_geometric.nn import global_add_pool, global_mean_pool\n",
        "\n",
        "### GCN to predict graph property\n",
        "class GCN_Graph(torch.nn.Module):\n",
        "    def __init__(self, hidden_dim, output_dim, num_layers, dropout):\n",
        "        super(GCN_Graph, self).__init__()\n",
        "\n",
        "        # Load encoders for Atoms in molecule graphs\n",
        "        self.node_encoder = AtomEncoder(hidden_dim)\n",
        "\n",
        "        # Node embedding model\n",
        "        # Note that the input_dim and output_dim are set to hidden_dim\n",
        "        self.gnn_node = GCN(hidden_dim, hidden_dim,\n",
        "            hidden_dim, num_layers, dropout, return_embeds=True)\n",
        "\n",
        "        self.pool = None\n",
        "\n",
        "        ############# Your code here ############\n",
        "        ## Note:\n",
        "        ## 1. Initialize the self.pool to global mean pooling layer\n",
        "        ## More information please refer to the documentation:\n",
        "        ## https://pytorch-geometric.readthedocs.io/en/latest/modules/nn.html#global-pooling-layers\n",
        "        ## (~1 line of code)\n",
        "        self.pool = global_mean_pool\n",
        "        #########################################\n",
        "\n",
        "        # Output layer\n",
        "        self.linear = torch.nn.Linear(hidden_dim, output_dim)\n",
        "\n",
        "\n",
        "    def reset_parameters(self):\n",
        "      self.gnn_node.reset_parameters()\n",
        "      self.linear.reset_parameters()\n",
        "\n",
        "    def forward(self, batched_data):\n",
        "        # TODO: Implement this function that takes the input tensor batched_data,\n",
        "        # returns a batched output tensor for each graph.\n",
        "        x, edge_index, batch = batched_data.x, batched_data.edge_index, batched_data.batch\n",
        "        embed = self.node_encoder(x)\n",
        "\n",
        "        out = None\n",
        "\n",
        "        ############# Your code here ############\n",
        "        ## Note:\n",
        "        ## 1. Construct node embeddings using existing GCN model\n",
        "        ## 2. Use global pooling layer to construct features for the whole graph\n",
        "        ## More information please refer to the documentation:\n",
        "        ## https://pytorch-geometric.readthedocs.io/en/latest/modules/nn.html#global-pooling-layers\n",
        "        ## 3. Use a linear layer to predict the graph property \n",
        "        ## (~3 lines of code)\n",
        "        x = self.gnn_node(embed, edge_index)\n",
        "        x = self.pool(x, batch)\n",
        "        out = self.linear(x)\n",
        "        #########################################\n",
        "\n",
        "        return out"
      ],
      "execution_count": 87,
      "outputs": []
    },
    {
      "cell_type": "code",
      "metadata": {
        "id": "FJjnGuMSbjX0"
      },
      "source": [
        "def train(model, device, data_loader, optimizer, loss_fn):\n",
        "    # TODO: Implement this function that trains the model by \n",
        "    # using the given optimizer and loss_fn.\n",
        "    model.train()\n",
        "    loss = 0\n",
        "\n",
        "    for step, batch in enumerate(tqdm(data_loader, desc=\"Iteration\")):\n",
        "      batch = batch.to(device)\n",
        "\n",
        "      if batch.x.shape[0] == 1 or batch.batch[-1] == 0:\n",
        "          pass\n",
        "      else:\n",
        "        ## ignore nan targets (unlabeled) when computing training loss.\n",
        "        is_labeled = batch.y == batch.y\n",
        "\n",
        "        ############# Your code here ############\n",
        "        ## Note:\n",
        "        ## 1. Zero grad the optimizer\n",
        "        ## 2. Feed the data into the model\n",
        "        ## 3. Use `is_labeled` mask to filter output and labels\n",
        "        ## 4. You might change the type of label\n",
        "        ## 5. Feed the output and label to loss_fn\n",
        "        ## (~3 lines of code)\n",
        "        optimizer.zero_grad()\n",
        "        y_ = model(batch)[is_labeled].view(-1)\n",
        "        y = batch.y[is_labeled].view(-1).float()\n",
        "        loss = loss_fn(y_, y)\n",
        "        #########################################\n",
        "\n",
        "        loss.backward()\n",
        "        optimizer.step()\n",
        "\n",
        "    return loss.item()"
      ],
      "execution_count": 100,
      "outputs": []
    },
    {
      "cell_type": "code",
      "metadata": {
        "id": "ztPHXq_Gzn7U"
      },
      "source": [
        "# The evaluation function\n",
        "def eval(model, device, loader, evaluator):\n",
        "    model.eval()\n",
        "    y_true = []\n",
        "    y_pred = []\n",
        "\n",
        "    for step, batch in enumerate(tqdm(loader, desc=\"Iteration\")):\n",
        "        batch = batch.to(device)\n",
        "\n",
        "        if batch.x.shape[0] == 1:\n",
        "            pass\n",
        "        else:\n",
        "            with torch.no_grad():\n",
        "                pred = model(batch)\n",
        "\n",
        "            y_true.append(batch.y.view(pred.shape).detach().cpu())\n",
        "            y_pred.append(pred.detach().cpu())\n",
        "\n",
        "    y_true = torch.cat(y_true, dim = 0).numpy()\n",
        "    y_pred = torch.cat(y_pred, dim = 0).numpy()\n",
        "\n",
        "    input_dict = {\"y_true\": y_true, \"y_pred\": y_pred}\n",
        "\n",
        "    return evaluator.eval(input_dict)"
      ],
      "execution_count": 101,
      "outputs": []
    },
    {
      "cell_type": "code",
      "metadata": {
        "id": "MR1wQ4hMZeMw"
      },
      "source": [
        "model = GCN_Graph(args['hidden_dim'],\n",
        "            dataset.num_tasks, args['num_layers'],\n",
        "            args['dropout']).to(device)\n",
        "evaluator = Evaluator(name='ogbg-molhiv')"
      ],
      "execution_count": 102,
      "outputs": []
    },
    {
      "cell_type": "code",
      "metadata": {
        "id": "qJGTNZiuZy0A"
      },
      "source": [
        "import copy\n",
        "\n",
        "model.reset_parameters()\n",
        "\n",
        "optimizer = torch.optim.Adam(model.parameters(), lr=args['lr'])\n",
        "loss_fn = torch.nn.BCEWithLogitsLoss()\n",
        "\n",
        "best_model = None\n",
        "best_valid_acc = 0\n",
        "\n",
        "for epoch in range(1, 1 + args[\"epochs\"]):\n",
        "  print('Training...')\n",
        "  loss = train(model, device, train_loader, optimizer, loss_fn)\n",
        "\n",
        "  print('Evaluating...')\n",
        "  train_result = eval(model, device, train_loader, evaluator)\n",
        "  val_result = eval(model, device, valid_loader, evaluator)\n",
        "  test_result = eval(model, device, test_loader, evaluator)\n",
        "\n",
        "  train_acc, valid_acc, test_acc = train_result[dataset.eval_metric], val_result[dataset.eval_metric], test_result[dataset.eval_metric]\n",
        "  if valid_acc > best_valid_acc:\n",
        "      best_valid_acc = valid_acc\n",
        "      best_model = copy.deepcopy(model)\n",
        "  print(f'Epoch: {epoch:02d}, '\n",
        "        f'Loss: {loss:.4f}, '\n",
        "        f'Train: {100 * train_acc:.2f}%, '\n",
        "        f'Valid: {100 * valid_acc:.2f}% '\n",
        "        f'Test: {100 * test_acc:.2f}%')"
      ],
      "execution_count": 103,
      "outputs": [
        {
          "output_type": "stream",
          "name": "stderr",
          "text": [
            "Iteration:   1%|          | 8/1029 [00:00<00:13, 78.23it/s]Training...\n",
            "Iteration: 100%|██████████| 1029/1029 [00:12<00:00, 79.21it/s]\n",
            "Iteration:   2%|▏         | 20/1029 [00:00<00:05, 194.26it/s]Evaluating...\n",
            "Iteration: 100%|██████████| 1029/1029 [00:05<00:00, 197.55it/s]\n",
            "Iteration: 100%|██████████| 129/129 [00:00<00:00, 150.64it/s]\n",
            "Iteration: 100%|██████████| 129/129 [00:00<00:00, 130.89it/s]\n",
            "Iteration:   1%|          | 9/1029 [00:00<00:12, 82.15it/s]Epoch: 01, Loss: 1.3343, Train: 70.83%, Valid: 70.52% Test: 71.20%\n",
            "Training...\n",
            "Iteration: 100%|██████████| 1029/1029 [00:11<00:00, 89.92it/s]\n",
            "Iteration:   2%|▏         | 19/1029 [00:00<00:05, 183.63it/s]Evaluating...\n",
            "Iteration: 100%|██████████| 1029/1029 [00:05<00:00, 197.34it/s]\n",
            "Iteration: 100%|██████████| 129/129 [00:00<00:00, 199.84it/s]\n",
            "Iteration: 100%|██████████| 129/129 [00:00<00:00, 198.47it/s]\n",
            "Iteration:   1%|          | 9/1029 [00:00<00:12, 84.38it/s]Epoch: 02, Loss: 0.0128, Train: 72.39%, Valid: 70.81% Test: 74.03%\n",
            "Training...\n",
            "Iteration: 100%|██████████| 1029/1029 [00:11<00:00, 89.89it/s]\n",
            "Iteration:   2%|▏         | 18/1029 [00:00<00:05, 175.32it/s]Evaluating...\n",
            "Iteration: 100%|██████████| 1029/1029 [00:05<00:00, 197.29it/s]\n",
            "Iteration: 100%|██████████| 129/129 [00:00<00:00, 197.10it/s]\n",
            "Iteration: 100%|██████████| 129/129 [00:00<00:00, 198.38it/s]\n",
            "Iteration:   1%|          | 9/1029 [00:00<00:11, 85.67it/s]Epoch: 03, Loss: 0.0224, Train: 76.21%, Valid: 71.69% Test: 70.42%\n",
            "Training...\n",
            "Iteration: 100%|██████████| 1029/1029 [00:11<00:00, 89.93it/s]\n",
            "Iteration:   2%|▏         | 19/1029 [00:00<00:05, 181.16it/s]Evaluating...\n",
            "Iteration: 100%|██████████| 1029/1029 [00:05<00:00, 196.97it/s]\n",
            "Iteration: 100%|██████████| 129/129 [00:00<00:00, 197.22it/s]\n",
            "Iteration: 100%|██████████| 129/129 [00:00<00:00, 199.23it/s]\n",
            "Iteration:   1%|          | 8/1029 [00:00<00:12, 79.13it/s]Epoch: 04, Loss: 0.0480, Train: 75.57%, Valid: 74.98% Test: 72.94%\n",
            "Training...\n",
            "Iteration: 100%|██████████| 1029/1029 [00:11<00:00, 89.18it/s]\n",
            "Iteration:   2%|▏         | 20/1029 [00:00<00:05, 198.43it/s]Evaluating...\n",
            "Iteration: 100%|██████████| 1029/1029 [00:05<00:00, 196.95it/s]\n",
            "Iteration: 100%|██████████| 129/129 [00:00<00:00, 199.50it/s]\n",
            "Iteration: 100%|██████████| 129/129 [00:00<00:00, 198.66it/s]\n",
            "Iteration:   1%|          | 9/1029 [00:00<00:12, 81.48it/s]Epoch: 05, Loss: 0.0272, Train: 77.17%, Valid: 75.11% Test: 69.13%\n",
            "Training...\n",
            "Iteration: 100%|██████████| 1029/1029 [00:11<00:00, 89.62it/s]\n",
            "Iteration:   2%|▏         | 19/1029 [00:00<00:05, 188.89it/s]Evaluating...\n",
            "Iteration: 100%|██████████| 1029/1029 [00:05<00:00, 196.61it/s]\n",
            "Iteration: 100%|██████████| 129/129 [00:00<00:00, 197.57it/s]\n",
            "Iteration: 100%|██████████| 129/129 [00:00<00:00, 197.84it/s]\n",
            "Iteration:   1%|          | 8/1029 [00:00<00:13, 77.33it/s]Epoch: 06, Loss: 0.0246, Train: 78.35%, Valid: 74.59% Test: 70.46%\n",
            "Training...\n",
            "Iteration: 100%|██████████| 1029/1029 [00:11<00:00, 89.94it/s]\n",
            "Iteration:   2%|▏         | 18/1029 [00:00<00:05, 178.50it/s]Evaluating...\n",
            "Iteration: 100%|██████████| 1029/1029 [00:05<00:00, 196.44it/s]\n",
            "Iteration: 100%|██████████| 129/129 [00:00<00:00, 198.39it/s]\n",
            "Iteration: 100%|██████████| 129/129 [00:00<00:00, 199.14it/s]\n",
            "Iteration:   1%|          | 9/1029 [00:00<00:11, 89.16it/s]Epoch: 07, Loss: 0.0401, Train: 78.33%, Valid: 73.18% Test: 73.36%\n",
            "Training...\n",
            "Iteration: 100%|██████████| 1029/1029 [00:11<00:00, 90.00it/s]\n",
            "Iteration:   2%|▏         | 20/1029 [00:00<00:05, 198.46it/s]Evaluating...\n",
            "Iteration: 100%|██████████| 1029/1029 [00:05<00:00, 196.90it/s]\n",
            "Iteration: 100%|██████████| 129/129 [00:00<00:00, 197.47it/s]\n",
            "Iteration: 100%|██████████| 129/129 [00:00<00:00, 197.99it/s]\n",
            "Iteration:   1%|          | 10/1029 [00:00<00:11, 91.33it/s]Epoch: 08, Loss: 0.0662, Train: 78.89%, Valid: 75.69% Test: 72.19%\n",
            "Training...\n",
            "Iteration: 100%|██████████| 1029/1029 [00:11<00:00, 89.84it/s]\n",
            "Iteration:   2%|▏         | 20/1029 [00:00<00:05, 195.21it/s]Evaluating...\n",
            "Iteration: 100%|██████████| 1029/1029 [00:05<00:00, 197.03it/s]\n",
            "Iteration: 100%|██████████| 129/129 [00:00<00:00, 199.59it/s]\n",
            "Iteration: 100%|██████████| 129/129 [00:00<00:00, 200.65it/s]\n",
            "Iteration:   1%|          | 10/1029 [00:00<00:11, 91.09it/s]Epoch: 09, Loss: 0.0204, Train: 79.39%, Valid: 70.84% Test: 70.62%\n",
            "Training...\n",
            "Iteration: 100%|██████████| 1029/1029 [00:11<00:00, 90.19it/s]\n",
            "Iteration:   2%|▏         | 19/1029 [00:00<00:05, 181.53it/s]Evaluating...\n",
            "Iteration: 100%|██████████| 1029/1029 [00:05<00:00, 195.69it/s]\n",
            "Iteration: 100%|██████████| 129/129 [00:00<00:00, 199.78it/s]\n",
            "Iteration: 100%|██████████| 129/129 [00:00<00:00, 198.01it/s]\n",
            "Iteration:   1%|          | 10/1029 [00:00<00:11, 91.38it/s]Epoch: 10, Loss: 0.0221, Train: 79.50%, Valid: 73.05% Test: 74.18%\n",
            "Training...\n",
            "Iteration: 100%|██████████| 1029/1029 [00:11<00:00, 90.15it/s]\n",
            "Iteration:   2%|▏         | 18/1029 [00:00<00:05, 178.72it/s]Evaluating...\n",
            "Iteration: 100%|██████████| 1029/1029 [00:05<00:00, 196.82it/s]\n",
            "Iteration: 100%|██████████| 129/129 [00:00<00:00, 197.88it/s]\n",
            "Iteration: 100%|██████████| 129/129 [00:00<00:00, 199.20it/s]\n",
            "Iteration:   1%|          | 9/1029 [00:00<00:11, 88.77it/s]Epoch: 11, Loss: 1.0110, Train: 79.73%, Valid: 77.91% Test: 72.56%\n",
            "Training...\n",
            "Iteration: 100%|██████████| 1029/1029 [00:11<00:00, 89.74it/s]\n",
            "Iteration:   2%|▏         | 18/1029 [00:00<00:05, 174.38it/s]Evaluating...\n",
            "Iteration: 100%|██████████| 1029/1029 [00:05<00:00, 196.83it/s]\n",
            "Iteration: 100%|██████████| 129/129 [00:00<00:00, 200.65it/s]\n",
            "Iteration: 100%|██████████| 129/129 [00:00<00:00, 197.04it/s]\n",
            "Iteration:   1%|          | 10/1029 [00:00<00:11, 91.42it/s]Epoch: 12, Loss: 1.5112, Train: 79.74%, Valid: 75.98% Test: 73.23%\n",
            "Training...\n",
            "Iteration: 100%|██████████| 1029/1029 [00:11<00:00, 89.63it/s]\n",
            "Iteration:   2%|▏         | 20/1029 [00:00<00:05, 197.92it/s]Evaluating...\n",
            "Iteration: 100%|██████████| 1029/1029 [00:05<00:00, 196.63it/s]\n",
            "Iteration: 100%|██████████| 129/129 [00:00<00:00, 195.77it/s]\n",
            "Iteration: 100%|██████████| 129/129 [00:00<00:00, 198.53it/s]\n",
            "Iteration:   1%|          | 9/1029 [00:00<00:12, 81.08it/s]Epoch: 13, Loss: 0.0215, Train: 81.17%, Valid: 76.79% Test: 72.91%\n",
            "Training...\n",
            "Iteration: 100%|██████████| 1029/1029 [00:11<00:00, 89.78it/s]\n",
            "Iteration:   2%|▏         | 20/1029 [00:00<00:05, 198.95it/s]Evaluating...\n",
            "Iteration: 100%|██████████| 1029/1029 [00:05<00:00, 196.32it/s]\n",
            "Iteration: 100%|██████████| 129/129 [00:00<00:00, 195.86it/s]\n",
            "Iteration: 100%|██████████| 129/129 [00:00<00:00, 199.61it/s]\n",
            "Iteration:   1%|          | 9/1029 [00:00<00:11, 88.06it/s]Epoch: 14, Loss: 0.0258, Train: 79.52%, Valid: 74.02% Test: 71.96%\n",
            "Training...\n",
            "Iteration: 100%|██████████| 1029/1029 [00:11<00:00, 89.86it/s]\n",
            "Iteration:   2%|▏         | 20/1029 [00:00<00:05, 199.74it/s]Evaluating...\n",
            "Iteration: 100%|██████████| 1029/1029 [00:05<00:00, 196.67it/s]\n",
            "Iteration: 100%|██████████| 129/129 [00:00<00:00, 199.36it/s]\n",
            "Iteration: 100%|██████████| 129/129 [00:00<00:00, 199.44it/s]\n",
            "Iteration:   1%|          | 9/1029 [00:00<00:12, 83.48it/s]Epoch: 15, Loss: 0.0282, Train: 80.44%, Valid: 75.03% Test: 73.17%\n",
            "Training...\n",
            "Iteration: 100%|██████████| 1029/1029 [00:11<00:00, 89.58it/s]\n",
            "Iteration:   2%|▏         | 17/1029 [00:00<00:06, 165.82it/s]Evaluating...\n",
            "Iteration: 100%|██████████| 1029/1029 [00:05<00:00, 196.19it/s]\n",
            "Iteration: 100%|██████████| 129/129 [00:00<00:00, 198.82it/s]\n",
            "Iteration: 100%|██████████| 129/129 [00:00<00:00, 197.60it/s]\n",
            "Iteration:   1%|          | 9/1029 [00:00<00:11, 87.84it/s]Epoch: 16, Loss: 0.0277, Train: 80.85%, Valid: 77.58% Test: 73.26%\n",
            "Training...\n",
            "Iteration: 100%|██████████| 1029/1029 [00:11<00:00, 89.94it/s]\n",
            "Iteration:   2%|▏         | 20/1029 [00:00<00:05, 199.27it/s]Evaluating...\n",
            "Iteration: 100%|██████████| 1029/1029 [00:05<00:00, 196.42it/s]\n",
            "Iteration: 100%|██████████| 129/129 [00:00<00:00, 198.73it/s]\n",
            "Iteration: 100%|██████████| 129/129 [00:00<00:00, 197.98it/s]\n",
            "Iteration:   1%|          | 9/1029 [00:00<00:11, 86.38it/s]Epoch: 17, Loss: 0.0253, Train: 81.46%, Valid: 77.71% Test: 73.85%\n",
            "Training...\n",
            "Iteration: 100%|██████████| 1029/1029 [00:11<00:00, 89.83it/s]\n",
            "Iteration:   2%|▏         | 18/1029 [00:00<00:05, 176.77it/s]Evaluating...\n",
            "Iteration: 100%|██████████| 1029/1029 [00:05<00:00, 196.65it/s]\n",
            "Iteration: 100%|██████████| 129/129 [00:00<00:00, 198.41it/s]\n",
            "Iteration: 100%|██████████| 129/129 [00:00<00:00, 196.15it/s]\n",
            "Iteration:   1%|          | 8/1029 [00:00<00:12, 79.07it/s]Epoch: 18, Loss: 0.0375, Train: 80.85%, Valid: 74.91% Test: 74.05%\n",
            "Training...\n",
            "Iteration: 100%|██████████| 1029/1029 [00:11<00:00, 89.42it/s]\n",
            "Iteration:   2%|▏         | 19/1029 [00:00<00:05, 180.85it/s]Evaluating...\n",
            "Iteration: 100%|██████████| 1029/1029 [00:05<00:00, 196.89it/s]\n",
            "Iteration: 100%|██████████| 129/129 [00:00<00:00, 197.14it/s]\n",
            "Iteration: 100%|██████████| 129/129 [00:00<00:00, 199.47it/s]\n",
            "Iteration:   1%|          | 9/1029 [00:00<00:11, 86.70it/s]Epoch: 19, Loss: 0.0559, Train: 80.90%, Valid: 76.56% Test: 74.18%\n",
            "Training...\n",
            "Iteration: 100%|██████████| 1029/1029 [00:11<00:00, 89.98it/s]\n",
            "Iteration:   2%|▏         | 20/1029 [00:00<00:05, 193.36it/s]Evaluating...\n",
            "Iteration: 100%|██████████| 1029/1029 [00:05<00:00, 196.46it/s]\n",
            "Iteration: 100%|██████████| 129/129 [00:00<00:00, 198.66it/s]\n",
            "Iteration: 100%|██████████| 129/129 [00:00<00:00, 195.78it/s]\n",
            "Iteration:   1%|          | 8/1029 [00:00<00:13, 77.98it/s]Epoch: 20, Loss: 0.0267, Train: 81.82%, Valid: 76.72% Test: 74.95%\n",
            "Training...\n",
            "Iteration: 100%|██████████| 1029/1029 [00:11<00:00, 89.70it/s]\n",
            "Iteration:   2%|▏         | 18/1029 [00:00<00:05, 178.89it/s]Evaluating...\n",
            "Iteration: 100%|██████████| 1029/1029 [00:05<00:00, 196.14it/s]\n",
            "Iteration: 100%|██████████| 129/129 [00:00<00:00, 196.01it/s]\n",
            "Iteration: 100%|██████████| 129/129 [00:00<00:00, 199.76it/s]\n",
            "Iteration:   1%|          | 9/1029 [00:00<00:11, 85.84it/s]Epoch: 21, Loss: 0.0654, Train: 82.34%, Valid: 78.52% Test: 73.65%\n",
            "Training...\n",
            "Iteration: 100%|██████████| 1029/1029 [00:11<00:00, 89.75it/s]\n",
            "Iteration:   2%|▏         | 18/1029 [00:00<00:05, 178.76it/s]Evaluating...\n",
            "Iteration: 100%|██████████| 1029/1029 [00:05<00:00, 196.19it/s]\n",
            "Iteration: 100%|██████████| 129/129 [00:00<00:00, 196.59it/s]\n",
            "Iteration: 100%|██████████| 129/129 [00:00<00:00, 199.15it/s]\n",
            "Iteration:   1%|          | 8/1029 [00:00<00:14, 72.10it/s]Epoch: 22, Loss: 0.0346, Train: 82.03%, Valid: 74.66% Test: 74.92%\n",
            "Training...\n",
            "Iteration: 100%|██████████| 1029/1029 [00:11<00:00, 89.41it/s]\n",
            "Iteration:   2%|▏         | 20/1029 [00:00<00:05, 195.12it/s]Evaluating...\n",
            "Iteration: 100%|██████████| 1029/1029 [00:05<00:00, 196.97it/s]\n",
            "Iteration: 100%|██████████| 129/129 [00:00<00:00, 195.51it/s]\n",
            "Iteration: 100%|██████████| 129/129 [00:00<00:00, 198.20it/s]\n",
            "Iteration:   1%|          | 9/1029 [00:00<00:11, 87.28it/s]Epoch: 23, Loss: 0.0228, Train: 81.51%, Valid: 78.88% Test: 73.54%\n",
            "Training...\n",
            "Iteration: 100%|██████████| 1029/1029 [00:11<00:00, 89.98it/s]\n",
            "Iteration:   2%|▏         | 20/1029 [00:00<00:05, 197.38it/s]Evaluating...\n",
            "Iteration: 100%|██████████| 1029/1029 [00:05<00:00, 197.43it/s]\n",
            "Iteration: 100%|██████████| 129/129 [00:00<00:00, 198.76it/s]\n",
            "Iteration: 100%|██████████| 129/129 [00:00<00:00, 195.30it/s]\n",
            "Iteration:   1%|          | 9/1029 [00:00<00:12, 81.20it/s]Epoch: 24, Loss: 0.0264, Train: 82.90%, Valid: 79.06% Test: 74.69%\n",
            "Training...\n",
            "Iteration: 100%|██████████| 1029/1029 [00:11<00:00, 89.70it/s]\n",
            "Iteration:   2%|▏         | 20/1029 [00:00<00:05, 195.98it/s]Evaluating...\n",
            "Iteration: 100%|██████████| 1029/1029 [00:05<00:00, 197.18it/s]\n",
            "Iteration: 100%|██████████| 129/129 [00:00<00:00, 195.88it/s]\n",
            "Iteration: 100%|██████████| 129/129 [00:00<00:00, 198.02it/s]\n",
            "Iteration:   1%|          | 9/1029 [00:00<00:11, 86.05it/s]Epoch: 25, Loss: 0.0239, Train: 82.69%, Valid: 78.92% Test: 74.13%\n",
            "Training...\n",
            "Iteration: 100%|██████████| 1029/1029 [00:11<00:00, 89.52it/s]\n",
            "Iteration:   2%|▏         | 20/1029 [00:00<00:05, 191.42it/s]Evaluating...\n",
            "Iteration: 100%|██████████| 1029/1029 [00:05<00:00, 196.76it/s]\n",
            "Iteration: 100%|██████████| 129/129 [00:00<00:00, 199.47it/s]\n",
            "Iteration: 100%|██████████| 129/129 [00:00<00:00, 197.72it/s]\n",
            "Iteration:   1%|          | 9/1029 [00:00<00:11, 89.65it/s]Epoch: 26, Loss: 0.0268, Train: 82.84%, Valid: 78.50% Test: 75.06%\n",
            "Training...\n",
            "Iteration: 100%|██████████| 1029/1029 [00:11<00:00, 89.82it/s]\n",
            "Iteration:   2%|▏         | 20/1029 [00:00<00:05, 192.68it/s]Evaluating...\n",
            "Iteration: 100%|██████████| 1029/1029 [00:05<00:00, 196.75it/s]\n",
            "Iteration: 100%|██████████| 129/129 [00:00<00:00, 198.06it/s]\n",
            "Iteration: 100%|██████████| 129/129 [00:00<00:00, 197.94it/s]\n",
            "Iteration:   1%|          | 8/1029 [00:00<00:12, 79.13it/s]Epoch: 27, Loss: 0.0684, Train: 83.10%, Valid: 76.44% Test: 74.94%\n",
            "Training...\n",
            "Iteration: 100%|██████████| 1029/1029 [00:11<00:00, 89.54it/s]\n",
            "Iteration:   2%|▏         | 20/1029 [00:00<00:05, 194.36it/s]Evaluating...\n",
            "Iteration: 100%|██████████| 1029/1029 [00:05<00:00, 197.30it/s]\n",
            "Iteration: 100%|██████████| 129/129 [00:00<00:00, 194.02it/s]\n",
            "Iteration: 100%|██████████| 129/129 [00:00<00:00, 200.18it/s]\n",
            "Iteration:   1%|          | 9/1029 [00:00<00:11, 85.03it/s]Epoch: 28, Loss: 0.0286, Train: 83.62%, Valid: 78.46% Test: 74.34%\n",
            "Training...\n",
            "Iteration: 100%|██████████| 1029/1029 [00:11<00:00, 89.84it/s]\n",
            "Iteration:   2%|▏         | 17/1029 [00:00<00:06, 162.95it/s]Evaluating...\n",
            "Iteration: 100%|██████████| 1029/1029 [00:05<00:00, 195.84it/s]\n",
            "Iteration: 100%|██████████| 129/129 [00:00<00:00, 198.02it/s]\n",
            "Iteration: 100%|██████████| 129/129 [00:00<00:00, 197.30it/s]\n",
            "Iteration:   1%|          | 9/1029 [00:00<00:12, 81.21it/s]Epoch: 29, Loss: 0.0300, Train: 83.14%, Valid: 76.91% Test: 76.92%\n",
            "Training...\n",
            "Iteration: 100%|██████████| 1029/1029 [00:11<00:00, 89.69it/s]\n",
            "Iteration:   2%|▏         | 20/1029 [00:00<00:05, 196.35it/s]Evaluating...\n",
            "Iteration: 100%|██████████| 1029/1029 [00:05<00:00, 196.61it/s]\n",
            "Iteration: 100%|██████████| 129/129 [00:00<00:00, 196.99it/s]\n",
            "Iteration: 100%|██████████| 129/129 [00:00<00:00, 198.70it/s]Epoch: 30, Loss: 0.0125, Train: 83.07%, Valid: 79.79% Test: 75.50%\n",
            "\n"
          ]
        }
      ]
    },
    {
      "cell_type": "code",
      "metadata": {
        "id": "Oq5QaG21dOOO"
      },
      "source": [
        "train_acc = eval(best_model, device, train_loader, evaluator)[dataset.eval_metric]\n",
        "valid_acc = eval(best_model, device, valid_loader, evaluator)[dataset.eval_metric]\n",
        "test_acc = eval(best_model, device, test_loader, evaluator)[dataset.eval_metric]\n",
        "\n",
        "print(f'Best model: '\n",
        "      f'Train: {100 * train_acc:.2f}%, '\n",
        "      f'Valid: {100 * valid_acc:.2f}% '\n",
        "      f'Test: {100 * test_acc:.2f}%')"
      ],
      "execution_count": 104,
      "outputs": [
        {
          "output_type": "stream",
          "name": "stderr",
          "text": [
            "Iteration: 100%|██████████| 1029/1029 [00:05<00:00, 196.94it/s]\n",
            "Iteration: 100%|██████████| 129/129 [00:00<00:00, 199.98it/s]\n",
            "Iteration: 100%|██████████| 129/129 [00:00<00:00, 199.95it/s]Best model: Train: 83.07%, Valid: 79.79% Test: 75.50%\n",
            "\n"
          ]
        }
      ]
    },
    {
      "cell_type": "markdown",
      "metadata": {
        "id": "-uKs6j6t1ah3"
      },
      "source": [
        "## Question 6: What are your `best_model` validation and test ROC-AUC score? Please report them on Gradescope. For example, for an ROC-AUC score such as 50.01%, just report 50.01 and please don't include the percent sign. (20 points)"
      ]
    },
    {
      "cell_type": "markdown",
      "metadata": {
        "id": "gBi_t8n0iZ4P"
      },
      "source": [
        "## Question 7 (Optional): Experiment with other two global pooling layers other than mean pooling in Pytorch Geometric."
      ]
    },
    {
      "cell_type": "code",
      "metadata": {
        "id": "taxEEWyh1_jq"
      },
      "source": [],
      "execution_count": null,
      "outputs": []
    },
    {
      "cell_type": "markdown",
      "metadata": {
        "id": "e7JXsMTBgeOI"
      },
      "source": [
        "# Submission\n",
        "\n",
        "In order to get credit, you must go submit your answers on Gradescope.\n",
        "\n",
        "Also, you need to submit the `ipynb` file of Colab 2, by clicking `File` and `Download .ipynb`. Please make sure that your output of each cell is available in your `ipynb` file."
      ]
    }
  ]
}